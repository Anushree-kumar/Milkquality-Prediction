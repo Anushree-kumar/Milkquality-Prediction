{
 "cells": [
  {
   "cell_type": "code",
   "execution_count": 1,
   "id": "542590d8",
   "metadata": {
    "execution": {
     "iopub.execute_input": "2023-01-19T13:19:27.214208Z",
     "iopub.status.busy": "2023-01-19T13:19:27.212183Z",
     "iopub.status.idle": "2023-01-19T13:19:28.439756Z",
     "shell.execute_reply": "2023-01-19T13:19:28.438294Z"
    },
    "id": "e76e8ee5",
    "papermill": {
     "duration": 1.244203,
     "end_time": "2023-01-19T13:19:28.443354",
     "exception": false,
     "start_time": "2023-01-19T13:19:27.199151",
     "status": "completed"
    },
    "tags": []
   },
   "outputs": [],
   "source": [
    "import numpy as np\n",
    "import pandas as pd\n",
    "import seaborn as sns\n",
    "import matplotlib.pyplot as plt\n",
    "from matplotlib import pyplot as plt, font_manager as fm\n"
   ]
  },
  {
   "cell_type": "markdown",
   "id": "9ffe0772",
   "metadata": {
    "papermill": {
     "duration": 0.008957,
     "end_time": "2023-01-19T13:19:28.461851",
     "exception": false,
     "start_time": "2023-01-19T13:19:28.452894",
     "status": "completed"
    },
    "tags": []
   },
   "source": [
    "# IMPORTING THE DATASET"
   ]
  },
  {
   "cell_type": "code",
   "execution_count": 2,
   "id": "1f503f3c",
   "metadata": {
    "execution": {
     "iopub.execute_input": "2023-01-19T13:19:28.482352Z",
     "iopub.status.busy": "2023-01-19T13:19:28.481854Z",
     "iopub.status.idle": "2023-01-19T13:19:28.523174Z",
     "shell.execute_reply": "2023-01-19T13:19:28.521693Z"
    },
    "id": "4b96d829",
    "outputId": "8d5d86d5-3b80-4836-a962-d31111aea314",
    "papermill": {
     "duration": 0.055584,
     "end_time": "2023-01-19T13:19:28.526621",
     "exception": false,
     "start_time": "2023-01-19T13:19:28.471037",
     "status": "completed"
    },
    "tags": []
   },
   "outputs": [
    {
     "data": {
      "text/html": [
       "<div>\n",
       "<style scoped>\n",
       "    .dataframe tbody tr th:only-of-type {\n",
       "        vertical-align: middle;\n",
       "    }\n",
       "\n",
       "    .dataframe tbody tr th {\n",
       "        vertical-align: top;\n",
       "    }\n",
       "\n",
       "    .dataframe thead th {\n",
       "        text-align: right;\n",
       "    }\n",
       "</style>\n",
       "<table border=\"1\" class=\"dataframe\">\n",
       "  <thead>\n",
       "    <tr style=\"text-align: right;\">\n",
       "      <th></th>\n",
       "      <th>pH</th>\n",
       "      <th>Temprature</th>\n",
       "      <th>Taste</th>\n",
       "      <th>Odor</th>\n",
       "      <th>Fat</th>\n",
       "      <th>Turbidity</th>\n",
       "      <th>Colour</th>\n",
       "      <th>Grade</th>\n",
       "    </tr>\n",
       "  </thead>\n",
       "  <tbody>\n",
       "    <tr>\n",
       "      <th>0</th>\n",
       "      <td>6.6</td>\n",
       "      <td>35</td>\n",
       "      <td>1</td>\n",
       "      <td>0</td>\n",
       "      <td>1</td>\n",
       "      <td>0</td>\n",
       "      <td>254</td>\n",
       "      <td>high</td>\n",
       "    </tr>\n",
       "    <tr>\n",
       "      <th>1</th>\n",
       "      <td>6.6</td>\n",
       "      <td>36</td>\n",
       "      <td>0</td>\n",
       "      <td>1</td>\n",
       "      <td>0</td>\n",
       "      <td>1</td>\n",
       "      <td>253</td>\n",
       "      <td>high</td>\n",
       "    </tr>\n",
       "    <tr>\n",
       "      <th>2</th>\n",
       "      <td>8.5</td>\n",
       "      <td>70</td>\n",
       "      <td>1</td>\n",
       "      <td>1</td>\n",
       "      <td>1</td>\n",
       "      <td>1</td>\n",
       "      <td>246</td>\n",
       "      <td>low</td>\n",
       "    </tr>\n",
       "    <tr>\n",
       "      <th>3</th>\n",
       "      <td>9.5</td>\n",
       "      <td>34</td>\n",
       "      <td>1</td>\n",
       "      <td>1</td>\n",
       "      <td>0</td>\n",
       "      <td>1</td>\n",
       "      <td>255</td>\n",
       "      <td>low</td>\n",
       "    </tr>\n",
       "    <tr>\n",
       "      <th>4</th>\n",
       "      <td>6.6</td>\n",
       "      <td>37</td>\n",
       "      <td>0</td>\n",
       "      <td>0</td>\n",
       "      <td>0</td>\n",
       "      <td>0</td>\n",
       "      <td>255</td>\n",
       "      <td>medium</td>\n",
       "    </tr>\n",
       "  </tbody>\n",
       "</table>\n",
       "</div>"
      ],
      "text/plain": [
       "    pH  Temprature  Taste  Odor  Fat   Turbidity  Colour   Grade\n",
       "0  6.6          35      1     0     1          0     254    high\n",
       "1  6.6          36      0     1     0          1     253    high\n",
       "2  8.5          70      1     1     1          1     246     low\n",
       "3  9.5          34      1     1     0          1     255     low\n",
       "4  6.6          37      0     0     0          0     255  medium"
      ]
     },
     "execution_count": 2,
     "metadata": {},
     "output_type": "execute_result"
    }
   ],
   "source": [
    "milkdata = pd.read_csv(\"/kaggle/input/milk-quality-prediction/milknew.csv\")\n",
    "milkdata.head()"
   ]
  },
  {
   "cell_type": "markdown",
   "id": "d56941d5",
   "metadata": {
    "papermill": {
     "duration": 0.009007,
     "end_time": "2023-01-19T13:19:28.545527",
     "exception": false,
     "start_time": "2023-01-19T13:19:28.536520",
     "status": "completed"
    },
    "tags": []
   },
   "source": [
    "# EXPLORATORY DATA ANALYSIS"
   ]
  },
  {
   "cell_type": "code",
   "execution_count": 3,
   "id": "3d12913f",
   "metadata": {
    "execution": {
     "iopub.execute_input": "2023-01-19T13:19:28.568563Z",
     "iopub.status.busy": "2023-01-19T13:19:28.568133Z",
     "iopub.status.idle": "2023-01-19T13:19:28.614780Z",
     "shell.execute_reply": "2023-01-19T13:19:28.613442Z"
    },
    "id": "9c6323a1",
    "outputId": "75fdeabf-e11a-458c-ab7c-d3c28cda75f3",
    "papermill": {
     "duration": 0.06114,
     "end_time": "2023-01-19T13:19:28.618472",
     "exception": false,
     "start_time": "2023-01-19T13:19:28.557332",
     "status": "completed"
    },
    "tags": []
   },
   "outputs": [
    {
     "data": {
      "text/html": [
       "<div>\n",
       "<style scoped>\n",
       "    .dataframe tbody tr th:only-of-type {\n",
       "        vertical-align: middle;\n",
       "    }\n",
       "\n",
       "    .dataframe tbody tr th {\n",
       "        vertical-align: top;\n",
       "    }\n",
       "\n",
       "    .dataframe thead th {\n",
       "        text-align: right;\n",
       "    }\n",
       "</style>\n",
       "<table border=\"1\" class=\"dataframe\">\n",
       "  <thead>\n",
       "    <tr style=\"text-align: right;\">\n",
       "      <th></th>\n",
       "      <th>pH</th>\n",
       "      <th>Temprature</th>\n",
       "      <th>Taste</th>\n",
       "      <th>Odor</th>\n",
       "      <th>Fat</th>\n",
       "      <th>Turbidity</th>\n",
       "      <th>Colour</th>\n",
       "    </tr>\n",
       "  </thead>\n",
       "  <tbody>\n",
       "    <tr>\n",
       "      <th>count</th>\n",
       "      <td>1059.000000</td>\n",
       "      <td>1059.000000</td>\n",
       "      <td>1059.000000</td>\n",
       "      <td>1059.000000</td>\n",
       "      <td>1059.000000</td>\n",
       "      <td>1059.000000</td>\n",
       "      <td>1059.000000</td>\n",
       "    </tr>\n",
       "    <tr>\n",
       "      <th>mean</th>\n",
       "      <td>6.630123</td>\n",
       "      <td>44.226629</td>\n",
       "      <td>0.546742</td>\n",
       "      <td>0.432483</td>\n",
       "      <td>0.671388</td>\n",
       "      <td>0.491029</td>\n",
       "      <td>251.840415</td>\n",
       "    </tr>\n",
       "    <tr>\n",
       "      <th>std</th>\n",
       "      <td>1.399679</td>\n",
       "      <td>10.098364</td>\n",
       "      <td>0.498046</td>\n",
       "      <td>0.495655</td>\n",
       "      <td>0.469930</td>\n",
       "      <td>0.500156</td>\n",
       "      <td>4.307424</td>\n",
       "    </tr>\n",
       "    <tr>\n",
       "      <th>min</th>\n",
       "      <td>3.000000</td>\n",
       "      <td>34.000000</td>\n",
       "      <td>0.000000</td>\n",
       "      <td>0.000000</td>\n",
       "      <td>0.000000</td>\n",
       "      <td>0.000000</td>\n",
       "      <td>240.000000</td>\n",
       "    </tr>\n",
       "    <tr>\n",
       "      <th>25%</th>\n",
       "      <td>6.500000</td>\n",
       "      <td>38.000000</td>\n",
       "      <td>0.000000</td>\n",
       "      <td>0.000000</td>\n",
       "      <td>0.000000</td>\n",
       "      <td>0.000000</td>\n",
       "      <td>250.000000</td>\n",
       "    </tr>\n",
       "    <tr>\n",
       "      <th>50%</th>\n",
       "      <td>6.700000</td>\n",
       "      <td>41.000000</td>\n",
       "      <td>1.000000</td>\n",
       "      <td>0.000000</td>\n",
       "      <td>1.000000</td>\n",
       "      <td>0.000000</td>\n",
       "      <td>255.000000</td>\n",
       "    </tr>\n",
       "    <tr>\n",
       "      <th>75%</th>\n",
       "      <td>6.800000</td>\n",
       "      <td>45.000000</td>\n",
       "      <td>1.000000</td>\n",
       "      <td>1.000000</td>\n",
       "      <td>1.000000</td>\n",
       "      <td>1.000000</td>\n",
       "      <td>255.000000</td>\n",
       "    </tr>\n",
       "    <tr>\n",
       "      <th>max</th>\n",
       "      <td>9.500000</td>\n",
       "      <td>90.000000</td>\n",
       "      <td>1.000000</td>\n",
       "      <td>1.000000</td>\n",
       "      <td>1.000000</td>\n",
       "      <td>1.000000</td>\n",
       "      <td>255.000000</td>\n",
       "    </tr>\n",
       "  </tbody>\n",
       "</table>\n",
       "</div>"
      ],
      "text/plain": [
       "                pH   Temprature        Taste         Odor         Fat   \\\n",
       "count  1059.000000  1059.000000  1059.000000  1059.000000  1059.000000   \n",
       "mean      6.630123    44.226629     0.546742     0.432483     0.671388   \n",
       "std       1.399679    10.098364     0.498046     0.495655     0.469930   \n",
       "min       3.000000    34.000000     0.000000     0.000000     0.000000   \n",
       "25%       6.500000    38.000000     0.000000     0.000000     0.000000   \n",
       "50%       6.700000    41.000000     1.000000     0.000000     1.000000   \n",
       "75%       6.800000    45.000000     1.000000     1.000000     1.000000   \n",
       "max       9.500000    90.000000     1.000000     1.000000     1.000000   \n",
       "\n",
       "         Turbidity       Colour  \n",
       "count  1059.000000  1059.000000  \n",
       "mean      0.491029   251.840415  \n",
       "std       0.500156     4.307424  \n",
       "min       0.000000   240.000000  \n",
       "25%       0.000000   250.000000  \n",
       "50%       0.000000   255.000000  \n",
       "75%       1.000000   255.000000  \n",
       "max       1.000000   255.000000  "
      ]
     },
     "execution_count": 3,
     "metadata": {},
     "output_type": "execute_result"
    }
   ],
   "source": [
    "milkdata.describe()"
   ]
  },
  {
   "cell_type": "code",
   "execution_count": 4,
   "id": "dff14269",
   "metadata": {
    "execution": {
     "iopub.execute_input": "2023-01-19T13:19:28.639043Z",
     "iopub.status.busy": "2023-01-19T13:19:28.638181Z",
     "iopub.status.idle": "2023-01-19T13:19:28.645761Z",
     "shell.execute_reply": "2023-01-19T13:19:28.644655Z"
    },
    "id": "6b5c6e33",
    "outputId": "f8deccfb-19c5-4990-b99b-384329560bd6",
    "papermill": {
     "duration": 0.020608,
     "end_time": "2023-01-19T13:19:28.648034",
     "exception": false,
     "start_time": "2023-01-19T13:19:28.627426",
     "status": "completed"
    },
    "tags": []
   },
   "outputs": [
    {
     "data": {
      "text/plain": [
       "(1059, 8)"
      ]
     },
     "execution_count": 4,
     "metadata": {},
     "output_type": "execute_result"
    }
   ],
   "source": [
    "milkdata.shape"
   ]
  },
  {
   "cell_type": "code",
   "execution_count": 5,
   "id": "0beb9181",
   "metadata": {
    "execution": {
     "iopub.execute_input": "2023-01-19T13:19:28.668625Z",
     "iopub.status.busy": "2023-01-19T13:19:28.667747Z",
     "iopub.status.idle": "2023-01-19T13:19:28.687502Z",
     "shell.execute_reply": "2023-01-19T13:19:28.685123Z"
    },
    "id": "25d39d9c",
    "outputId": "95357784-b357-4014-bbd5-4b41ba0d22c6",
    "papermill": {
     "duration": 0.033473,
     "end_time": "2023-01-19T13:19:28.690494",
     "exception": false,
     "start_time": "2023-01-19T13:19:28.657021",
     "status": "completed"
    },
    "tags": []
   },
   "outputs": [
    {
     "name": "stdout",
     "output_type": "stream",
     "text": [
      "<class 'pandas.core.frame.DataFrame'>\n",
      "RangeIndex: 1059 entries, 0 to 1058\n",
      "Data columns (total 8 columns):\n",
      " #   Column      Non-Null Count  Dtype  \n",
      "---  ------      --------------  -----  \n",
      " 0   pH          1059 non-null   float64\n",
      " 1   Temprature  1059 non-null   int64  \n",
      " 2   Taste       1059 non-null   int64  \n",
      " 3   Odor        1059 non-null   int64  \n",
      " 4   Fat         1059 non-null   int64  \n",
      " 5   Turbidity   1059 non-null   int64  \n",
      " 6   Colour      1059 non-null   int64  \n",
      " 7   Grade       1059 non-null   object \n",
      "dtypes: float64(1), int64(6), object(1)\n",
      "memory usage: 66.3+ KB\n"
     ]
    }
   ],
   "source": [
    "milkdata.info()"
   ]
  },
  {
   "cell_type": "code",
   "execution_count": 6,
   "id": "dfc341f8",
   "metadata": {
    "execution": {
     "iopub.execute_input": "2023-01-19T13:19:28.718859Z",
     "iopub.status.busy": "2023-01-19T13:19:28.717952Z",
     "iopub.status.idle": "2023-01-19T13:19:28.735221Z",
     "shell.execute_reply": "2023-01-19T13:19:28.733199Z"
    },
    "id": "30b10119",
    "outputId": "f5f25c17-53c1-410e-f64d-ec43361b20f5",
    "papermill": {
     "duration": 0.034032,
     "end_time": "2023-01-19T13:19:28.737855",
     "exception": false,
     "start_time": "2023-01-19T13:19:28.703823",
     "status": "completed"
    },
    "tags": []
   },
   "outputs": [
    {
     "data": {
      "text/plain": [
       "976"
      ]
     },
     "execution_count": 6,
     "metadata": {},
     "output_type": "execute_result"
    }
   ],
   "source": [
    "milkdata.duplicated().sum()"
   ]
  },
  {
   "cell_type": "code",
   "execution_count": 7,
   "id": "0ab115eb",
   "metadata": {
    "execution": {
     "iopub.execute_input": "2023-01-19T13:19:28.765394Z",
     "iopub.status.busy": "2023-01-19T13:19:28.764315Z",
     "iopub.status.idle": "2023-01-19T13:19:28.776011Z",
     "shell.execute_reply": "2023-01-19T13:19:28.774963Z"
    },
    "id": "6eb5f0cc",
    "outputId": "d955acab-7b21-4a6e-ca91-ff39894ec61e",
    "papermill": {
     "duration": 0.029019,
     "end_time": "2023-01-19T13:19:28.779190",
     "exception": false,
     "start_time": "2023-01-19T13:19:28.750171",
     "status": "completed"
    },
    "tags": []
   },
   "outputs": [
    {
     "data": {
      "text/plain": [
       "pH            0\n",
       "Temprature    0\n",
       "Taste         0\n",
       "Odor          0\n",
       "Fat           0\n",
       "Turbidity     0\n",
       "Colour        0\n",
       "Grade         0\n",
       "dtype: int64"
      ]
     },
     "execution_count": 7,
     "metadata": {},
     "output_type": "execute_result"
    }
   ],
   "source": [
    "milkdata.isnull().sum()"
   ]
  },
  {
   "cell_type": "code",
   "execution_count": 8,
   "id": "faf2e860",
   "metadata": {
    "execution": {
     "iopub.execute_input": "2023-01-19T13:19:28.807604Z",
     "iopub.status.busy": "2023-01-19T13:19:28.806661Z",
     "iopub.status.idle": "2023-01-19T13:19:28.819051Z",
     "shell.execute_reply": "2023-01-19T13:19:28.817219Z"
    },
    "id": "742aa369",
    "outputId": "86997d50-6c91-477d-beea-87b515340655",
    "papermill": {
     "duration": 0.032149,
     "end_time": "2023-01-19T13:19:28.822287",
     "exception": false,
     "start_time": "2023-01-19T13:19:28.790138",
     "status": "completed"
    },
    "tags": []
   },
   "outputs": [
    {
     "name": "stderr",
     "output_type": "stream",
     "text": [
      "/opt/conda/lib/python3.7/site-packages/ipykernel_launcher.py:1: FutureWarning: Dropping of nuisance columns in DataFrame reductions (with 'numeric_only=None') is deprecated; in a future version this will raise TypeError.  Select only valid columns before calling the reduction.\n",
      "  \"\"\"Entry point for launching an IPython kernel.\n"
     ]
    },
    {
     "data": {
      "text/plain": [
       "pH           -0.683904\n",
       "Temprature    2.216739\n",
       "Taste        -0.188058\n",
       "Odor          0.272949\n",
       "Fat          -0.730799\n",
       "Turbidity     0.035940\n",
       "Colour       -1.024902\n",
       "dtype: float64"
      ]
     },
     "execution_count": 8,
     "metadata": {},
     "output_type": "execute_result"
    }
   ],
   "source": [
    "milkdata.skew()"
   ]
  },
  {
   "cell_type": "code",
   "execution_count": 9,
   "id": "f796da53",
   "metadata": {
    "execution": {
     "iopub.execute_input": "2023-01-19T13:19:28.845324Z",
     "iopub.status.busy": "2023-01-19T13:19:28.843792Z",
     "iopub.status.idle": "2023-01-19T13:19:28.856734Z",
     "shell.execute_reply": "2023-01-19T13:19:28.855390Z"
    },
    "id": "f2716c8a",
    "outputId": "73cb9260-5e9e-44cf-c4ed-9d9b34154c47",
    "papermill": {
     "duration": 0.027204,
     "end_time": "2023-01-19T13:19:28.859655",
     "exception": false,
     "start_time": "2023-01-19T13:19:28.832451",
     "status": "completed"
    },
    "tags": []
   },
   "outputs": [
    {
     "data": {
      "text/plain": [
       "0.0"
      ]
     },
     "execution_count": 9,
     "metadata": {},
     "output_type": "execute_result"
    }
   ],
   "source": [
    "from scipy import stats\n",
    "Temprature_boxcox=stats.boxcox(milkdata['Temprature'])[0]\n",
    "pd.Series(Temprature_boxcox).skew()"
   ]
  },
  {
   "cell_type": "code",
   "execution_count": 10,
   "id": "5cb0351a",
   "metadata": {
    "execution": {
     "iopub.execute_input": "2023-01-19T13:19:28.882646Z",
     "iopub.status.busy": "2023-01-19T13:19:28.882204Z",
     "iopub.status.idle": "2023-01-19T13:19:28.899820Z",
     "shell.execute_reply": "2023-01-19T13:19:28.898318Z"
    },
    "id": "wRr_tQAnW1KB",
    "outputId": "f3118352-9ffd-44a1-b091-d31952d074e9",
    "papermill": {
     "duration": 0.032508,
     "end_time": "2023-01-19T13:19:28.902749",
     "exception": false,
     "start_time": "2023-01-19T13:19:28.870241",
     "status": "completed"
    },
    "tags": []
   },
   "outputs": [
    {
     "data": {
      "text/html": [
       "<div>\n",
       "<style scoped>\n",
       "    .dataframe tbody tr th:only-of-type {\n",
       "        vertical-align: middle;\n",
       "    }\n",
       "\n",
       "    .dataframe tbody tr th {\n",
       "        vertical-align: top;\n",
       "    }\n",
       "\n",
       "    .dataframe thead th {\n",
       "        text-align: right;\n",
       "    }\n",
       "</style>\n",
       "<table border=\"1\" class=\"dataframe\">\n",
       "  <thead>\n",
       "    <tr style=\"text-align: right;\">\n",
       "      <th></th>\n",
       "      <th>pH</th>\n",
       "      <th>Temprature</th>\n",
       "      <th>Taste</th>\n",
       "      <th>Odor</th>\n",
       "      <th>Fat</th>\n",
       "      <th>Turbidity</th>\n",
       "      <th>Colour</th>\n",
       "      <th>Grade</th>\n",
       "    </tr>\n",
       "  </thead>\n",
       "  <tbody>\n",
       "    <tr>\n",
       "      <th>0</th>\n",
       "      <td>6.6</td>\n",
       "      <td>35</td>\n",
       "      <td>1</td>\n",
       "      <td>0</td>\n",
       "      <td>1</td>\n",
       "      <td>0</td>\n",
       "      <td>254</td>\n",
       "      <td>2</td>\n",
       "    </tr>\n",
       "    <tr>\n",
       "      <th>1</th>\n",
       "      <td>6.6</td>\n",
       "      <td>36</td>\n",
       "      <td>0</td>\n",
       "      <td>1</td>\n",
       "      <td>0</td>\n",
       "      <td>1</td>\n",
       "      <td>253</td>\n",
       "      <td>2</td>\n",
       "    </tr>\n",
       "    <tr>\n",
       "      <th>2</th>\n",
       "      <td>8.5</td>\n",
       "      <td>70</td>\n",
       "      <td>1</td>\n",
       "      <td>1</td>\n",
       "      <td>1</td>\n",
       "      <td>1</td>\n",
       "      <td>246</td>\n",
       "      <td>0</td>\n",
       "    </tr>\n",
       "    <tr>\n",
       "      <th>3</th>\n",
       "      <td>9.5</td>\n",
       "      <td>34</td>\n",
       "      <td>1</td>\n",
       "      <td>1</td>\n",
       "      <td>0</td>\n",
       "      <td>1</td>\n",
       "      <td>255</td>\n",
       "      <td>0</td>\n",
       "    </tr>\n",
       "    <tr>\n",
       "      <th>4</th>\n",
       "      <td>6.6</td>\n",
       "      <td>37</td>\n",
       "      <td>0</td>\n",
       "      <td>0</td>\n",
       "      <td>0</td>\n",
       "      <td>0</td>\n",
       "      <td>255</td>\n",
       "      <td>1</td>\n",
       "    </tr>\n",
       "  </tbody>\n",
       "</table>\n",
       "</div>"
      ],
      "text/plain": [
       "    pH  Temprature  Taste  Odor  Fat   Turbidity  Colour  Grade\n",
       "0  6.6          35      1     0     1          0     254      2\n",
       "1  6.6          36      0     1     0          1     253      2\n",
       "2  8.5          70      1     1     1          1     246      0\n",
       "3  9.5          34      1     1     0          1     255      0\n",
       "4  6.6          37      0     0     0          0     255      1"
      ]
     },
     "execution_count": 10,
     "metadata": {},
     "output_type": "execute_result"
    }
   ],
   "source": [
    "milkdata['Grade'].replace({'high':2,'medium':1,'low':0},inplace=True)\n",
    "milkdata.head()"
   ]
  },
  {
   "cell_type": "code",
   "execution_count": 11,
   "id": "331451ea",
   "metadata": {
    "execution": {
     "iopub.execute_input": "2023-01-19T13:19:28.926283Z",
     "iopub.status.busy": "2023-01-19T13:19:28.925717Z",
     "iopub.status.idle": "2023-01-19T13:19:29.365534Z",
     "shell.execute_reply": "2023-01-19T13:19:29.364022Z"
    },
    "id": "9592816b",
    "outputId": "8ecae1e2-8d4d-487f-ce3c-9c5ac0d9a135",
    "papermill": {
     "duration": 0.455127,
     "end_time": "2023-01-19T13:19:29.368413",
     "exception": false,
     "start_time": "2023-01-19T13:19:28.913286",
     "status": "completed"
    },
    "tags": []
   },
   "outputs": [
    {
     "data": {
      "image/png": "[encoded data removed]",
      "text/plain": [
       "<Figure size 432x288 with 1 Axes>"
      ]
     },
     "metadata": {
      "needs_background": "light"
     },
     "output_type": "display_data"
    }
   ],
   "source": [
    "cols = milkdata.columns[:6]\n",
    "densityplot = milkdata[cols].plot(kind='density')"
   ]
  },
  {
   "cell_type": "code",
   "execution_count": 12,
   "id": "797f2919",
   "metadata": {
    "execution": {
     "iopub.execute_input": "2023-01-19T13:19:29.391005Z",
     "iopub.status.busy": "2023-01-19T13:19:29.390543Z",
     "iopub.status.idle": "2023-01-19T13:19:29.401580Z",
     "shell.execute_reply": "2023-01-19T13:19:29.400145Z"
    },
    "id": "c491ceb4",
    "outputId": "569485cd-6530-47f8-f1ce-ff22a758c5a7",
    "papermill": {
     "duration": 0.025244,
     "end_time": "2023-01-19T13:19:29.404153",
     "exception": false,
     "start_time": "2023-01-19T13:19:29.378909",
     "status": "completed"
    },
    "tags": []
   },
   "outputs": [
    {
     "data": {
      "text/plain": [
       "0    429\n",
       "1    374\n",
       "2    256\n",
       "Name: Grade, dtype: int64"
      ]
     },
     "execution_count": 12,
     "metadata": {},
     "output_type": "execute_result"
    }
   ],
   "source": [
    "milkdata.Grade.value_counts()"
   ]
  },
  {
   "cell_type": "code",
   "execution_count": 13,
   "id": "282eeb3c",
   "metadata": {
    "execution": {
     "iopub.execute_input": "2023-01-19T13:19:29.426867Z",
     "iopub.status.busy": "2023-01-19T13:19:29.426407Z",
     "iopub.status.idle": "2023-01-19T13:19:29.609375Z",
     "shell.execute_reply": "2023-01-19T13:19:29.607777Z"
    },
    "id": "1a10a924",
    "outputId": "f7502e99-e2cb-4aa4-f908-bba9315d361f",
    "papermill": {
     "duration": 0.197883,
     "end_time": "2023-01-19T13:19:29.612357",
     "exception": false,
     "start_time": "2023-01-19T13:19:29.414474",
     "status": "completed"
    },
    "tags": []
   },
   "outputs": [
    {
     "name": "stderr",
     "output_type": "stream",
     "text": [
      "/opt/conda/lib/python3.7/site-packages/seaborn/_decorators.py:43: FutureWarning: Pass the following variable as a keyword arg: x. From version 0.12, the only valid positional argument will be `data`, and passing other arguments without an explicit keyword will result in an error or misinterpretation.\n",
      "  FutureWarning\n"
     ]
    },
    {
     "data": {
      "image/png": "[encoded data removed]",
      "text/plain": [
       "<Figure size 576x288 with 1 Axes>"
      ]
     },
     "metadata": {
      "needs_background": "light"
     },
     "output_type": "display_data"
    }
   ],
   "source": [
    "plt.figure(figsize=(8,4))\n",
    "sns.countplot(milkdata['Grade'])\n",
    "plt.show()"
   ]
  },
  {
   "cell_type": "markdown",
   "id": "7e413900",
   "metadata": {
    "papermill": {
     "duration": 0.010608,
     "end_time": "2023-01-19T13:19:29.634643",
     "exception": false,
     "start_time": "2023-01-19T13:19:29.624035",
     "status": "completed"
    },
    "tags": []
   },
   "source": [
    "# FINDING CORRELATION"
   ]
  },
  {
   "cell_type": "code",
   "execution_count": 14,
   "id": "8ca1579f",
   "metadata": {
    "execution": {
     "iopub.execute_input": "2023-01-19T13:19:29.659012Z",
     "iopub.status.busy": "2023-01-19T13:19:29.658599Z",
     "iopub.status.idle": "2023-01-19T13:19:29.678932Z",
     "shell.execute_reply": "2023-01-19T13:19:29.678002Z"
    },
    "id": "a3a04b0e",
    "outputId": "f2b6d37a-084b-4826-b489-c9563489f275",
    "papermill": {
     "duration": 0.035585,
     "end_time": "2023-01-19T13:19:29.681347",
     "exception": false,
     "start_time": "2023-01-19T13:19:29.645762",
     "status": "completed"
    },
    "tags": []
   },
   "outputs": [
    {
     "data": {
      "text/html": [
       "<div>\n",
       "<style scoped>\n",
       "    .dataframe tbody tr th:only-of-type {\n",
       "        vertical-align: middle;\n",
       "    }\n",
       "\n",
       "    .dataframe tbody tr th {\n",
       "        vertical-align: top;\n",
       "    }\n",
       "\n",
       "    .dataframe thead th {\n",
       "        text-align: right;\n",
       "    }\n",
       "</style>\n",
       "<table border=\"1\" class=\"dataframe\">\n",
       "  <thead>\n",
       "    <tr style=\"text-align: right;\">\n",
       "      <th></th>\n",
       "      <th>pH</th>\n",
       "      <th>Temprature</th>\n",
       "      <th>Taste</th>\n",
       "      <th>Odor</th>\n",
       "      <th>Fat</th>\n",
       "      <th>Turbidity</th>\n",
       "      <th>Colour</th>\n",
       "      <th>Grade</th>\n",
       "    </tr>\n",
       "  </thead>\n",
       "  <tbody>\n",
       "    <tr>\n",
       "      <th>pH</th>\n",
       "      <td>1.000000</td>\n",
       "      <td>0.244684</td>\n",
       "      <td>-0.064053</td>\n",
       "      <td>-0.081331</td>\n",
       "      <td>-0.093429</td>\n",
       "      <td>0.048384</td>\n",
       "      <td>-0.164565</td>\n",
       "      <td>0.028980</td>\n",
       "    </tr>\n",
       "    <tr>\n",
       "      <th>Temprature</th>\n",
       "      <td>0.244684</td>\n",
       "      <td>1.000000</td>\n",
       "      <td>-0.109792</td>\n",
       "      <td>-0.048870</td>\n",
       "      <td>0.024073</td>\n",
       "      <td>0.185106</td>\n",
       "      <td>-0.008511</td>\n",
       "      <td>-0.417789</td>\n",
       "    </tr>\n",
       "    <tr>\n",
       "      <th>Taste</th>\n",
       "      <td>-0.064053</td>\n",
       "      <td>-0.109792</td>\n",
       "      <td>1.000000</td>\n",
       "      <td>0.017582</td>\n",
       "      <td>0.324149</td>\n",
       "      <td>0.055755</td>\n",
       "      <td>-0.082654</td>\n",
       "      <td>0.025500</td>\n",
       "    </tr>\n",
       "    <tr>\n",
       "      <th>Odor</th>\n",
       "      <td>-0.081331</td>\n",
       "      <td>-0.048870</td>\n",
       "      <td>0.017582</td>\n",
       "      <td>1.000000</td>\n",
       "      <td>0.314505</td>\n",
       "      <td>0.457935</td>\n",
       "      <td>-0.039361</td>\n",
       "      <td>0.149626</td>\n",
       "    </tr>\n",
       "    <tr>\n",
       "      <th>Fat</th>\n",
       "      <td>-0.093429</td>\n",
       "      <td>0.024073</td>\n",
       "      <td>0.324149</td>\n",
       "      <td>0.314505</td>\n",
       "      <td>1.000000</td>\n",
       "      <td>0.329264</td>\n",
       "      <td>0.114151</td>\n",
       "      <td>0.151002</td>\n",
       "    </tr>\n",
       "    <tr>\n",
       "      <th>Turbidity</th>\n",
       "      <td>0.048384</td>\n",
       "      <td>0.185106</td>\n",
       "      <td>0.055755</td>\n",
       "      <td>0.457935</td>\n",
       "      <td>0.329264</td>\n",
       "      <td>1.000000</td>\n",
       "      <td>0.136436</td>\n",
       "      <td>-0.153634</td>\n",
       "    </tr>\n",
       "    <tr>\n",
       "      <th>Colour</th>\n",
       "      <td>-0.164565</td>\n",
       "      <td>-0.008511</td>\n",
       "      <td>-0.082654</td>\n",
       "      <td>-0.039361</td>\n",
       "      <td>0.114151</td>\n",
       "      <td>0.136436</td>\n",
       "      <td>1.000000</td>\n",
       "      <td>-0.056986</td>\n",
       "    </tr>\n",
       "    <tr>\n",
       "      <th>Grade</th>\n",
       "      <td>0.028980</td>\n",
       "      <td>-0.417789</td>\n",
       "      <td>0.025500</td>\n",
       "      <td>0.149626</td>\n",
       "      <td>0.151002</td>\n",
       "      <td>-0.153634</td>\n",
       "      <td>-0.056986</td>\n",
       "      <td>1.000000</td>\n",
       "    </tr>\n",
       "  </tbody>\n",
       "</table>\n",
       "</div>"
      ],
      "text/plain": [
       "                  pH  Temprature     Taste      Odor      Fat   Turbidity  \\\n",
       "pH          1.000000    0.244684 -0.064053 -0.081331 -0.093429   0.048384   \n",
       "Temprature  0.244684    1.000000 -0.109792 -0.048870  0.024073   0.185106   \n",
       "Taste      -0.064053   -0.109792  1.000000  0.017582  0.324149   0.055755   \n",
       "Odor       -0.081331   -0.048870  0.017582  1.000000  0.314505   0.457935   \n",
       "Fat        -0.093429    0.024073  0.324149  0.314505  1.000000   0.329264   \n",
       "Turbidity   0.048384    0.185106  0.055755  0.457935  0.329264   1.000000   \n",
       "Colour     -0.164565   -0.008511 -0.082654 -0.039361  0.114151   0.136436   \n",
       "Grade       0.028980   -0.417789  0.025500  0.149626  0.151002  -0.153634   \n",
       "\n",
       "              Colour     Grade  \n",
       "pH         -0.164565  0.028980  \n",
       "Temprature -0.008511 -0.417789  \n",
       "Taste      -0.082654  0.025500  \n",
       "Odor       -0.039361  0.149626  \n",
       "Fat         0.114151  0.151002  \n",
       "Turbidity   0.136436 -0.153634  \n",
       "Colour      1.000000 -0.056986  \n",
       "Grade      -0.056986  1.000000  "
      ]
     },
     "execution_count": 14,
     "metadata": {},
     "output_type": "execute_result"
    }
   ],
   "source": [
    "milkdata.corr()"
   ]
  },
  {
   "cell_type": "code",
   "execution_count": 15,
   "id": "607e94d3",
   "metadata": {
    "execution": {
     "iopub.execute_input": "2023-01-19T13:19:29.706980Z",
     "iopub.status.busy": "2023-01-19T13:19:29.706547Z",
     "iopub.status.idle": "2023-01-19T13:19:30.426741Z",
     "shell.execute_reply": "2023-01-19T13:19:30.425151Z"
    },
    "id": "0f7b9452",
    "outputId": "2be14db5-b396-4d76-e064-be33333a3b96",
    "papermill": {
     "duration": 0.737357,
     "end_time": "2023-01-19T13:19:30.430250",
     "exception": false,
     "start_time": "2023-01-19T13:19:29.692893",
     "status": "completed"
    },
    "tags": []
   },
   "outputs": [
    {
     "data": {
      "text/plain": [
       "<AxesSubplot:>"
      ]
     },
     "execution_count": 15,
     "metadata": {},
     "output_type": "execute_result"
    },
    {
     "data": {
      "image/png": "[encoded data removed]",
      "text/plain": [
       "<Figure size 720x720 with 2 Axes>"
      ]
     },
     "metadata": {
      "needs_background": "light"
     },
     "output_type": "display_data"
    }
   ],
   "source": [
    "f, axes = plt.subplots(1, 1, figsize=(10, 10))\n",
    "sns.heatmap(milkdata.corr(), vmin = -1, vmax = 1,  linewidths = 1,\n",
    "           annot = True, fmt = \".2f\", annot_kws = {\"size\": 14}, cmap = \"bwr\")"
   ]
  },
  {
   "cell_type": "markdown",
   "id": "8243ebff",
   "metadata": {
    "papermill": {
     "duration": 0.012047,
     "end_time": "2023-01-19T13:19:30.455498",
     "exception": false,
     "start_time": "2023-01-19T13:19:30.443451",
     "status": "completed"
    },
    "tags": []
   },
   "source": [
    "# SPLITTING TRAIN AND TEST DATASET"
   ]
  },
  {
   "cell_type": "code",
   "execution_count": 16,
   "id": "8ce4defc",
   "metadata": {
    "execution": {
     "iopub.execute_input": "2023-01-19T13:19:30.483842Z",
     "iopub.status.busy": "2023-01-19T13:19:30.482997Z",
     "iopub.status.idle": "2023-01-19T13:19:30.489975Z",
     "shell.execute_reply": "2023-01-19T13:19:30.489051Z"
    },
    "id": "bb9151fa",
    "papermill": {
     "duration": 0.024769,
     "end_time": "2023-01-19T13:19:30.492981",
     "exception": false,
     "start_time": "2023-01-19T13:19:30.468212",
     "status": "completed"
    },
    "tags": []
   },
   "outputs": [],
   "source": [
    "x=milkdata.drop(['Grade'],axis=1)\n",
    "y=milkdata['Grade']"
   ]
  },
  {
   "cell_type": "code",
   "execution_count": 17,
   "id": "c4e4ab11",
   "metadata": {
    "execution": {
     "iopub.execute_input": "2023-01-19T13:19:30.521128Z",
     "iopub.status.busy": "2023-01-19T13:19:30.520617Z",
     "iopub.status.idle": "2023-01-19T13:19:30.739135Z",
     "shell.execute_reply": "2023-01-19T13:19:30.737390Z"
    },
    "id": "9e9fee62",
    "papermill": {
     "duration": 0.235993,
     "end_time": "2023-01-19T13:19:30.742487",
     "exception": false,
     "start_time": "2023-01-19T13:19:30.506494",
     "status": "completed"
    },
    "tags": []
   },
   "outputs": [],
   "source": [
    "from sklearn.model_selection import train_test_split\n",
    "X_train,X_test,y_train,y_test = train_test_split(x,y,test_size=0.3,random_state=0)"
   ]
  },
  {
   "cell_type": "code",
   "execution_count": 18,
   "id": "95dc2721",
   "metadata": {
    "execution": {
     "iopub.execute_input": "2023-01-19T13:19:30.769153Z",
     "iopub.status.busy": "2023-01-19T13:19:30.768658Z",
     "iopub.status.idle": "2023-01-19T13:19:30.789241Z",
     "shell.execute_reply": "2023-01-19T13:19:30.787739Z"
    },
    "id": "3f0b07d6",
    "outputId": "f08c66ba-e24e-4b62-9ca2-d0f714e88082",
    "papermill": {
     "duration": 0.037217,
     "end_time": "2023-01-19T13:19:30.792133",
     "exception": false,
     "start_time": "2023-01-19T13:19:30.754916",
     "status": "completed"
    },
    "scrolled": true,
    "tags": []
   },
   "outputs": [
    {
     "data": {
      "text/html": [
       "<div>\n",
       "<style scoped>\n",
       "    .dataframe tbody tr th:only-of-type {\n",
       "        vertical-align: middle;\n",
       "    }\n",
       "\n",
       "    .dataframe tbody tr th {\n",
       "        vertical-align: top;\n",
       "    }\n",
       "\n",
       "    .dataframe thead th {\n",
       "        text-align: right;\n",
       "    }\n",
       "</style>\n",
       "<table border=\"1\" class=\"dataframe\">\n",
       "  <thead>\n",
       "    <tr style=\"text-align: right;\">\n",
       "      <th></th>\n",
       "      <th>pH</th>\n",
       "      <th>Temprature</th>\n",
       "      <th>Taste</th>\n",
       "      <th>Odor</th>\n",
       "      <th>Fat</th>\n",
       "      <th>Turbidity</th>\n",
       "      <th>Colour</th>\n",
       "    </tr>\n",
       "  </thead>\n",
       "  <tbody>\n",
       "    <tr>\n",
       "      <th>899</th>\n",
       "      <td>6.6</td>\n",
       "      <td>43</td>\n",
       "      <td>0</td>\n",
       "      <td>0</td>\n",
       "      <td>1</td>\n",
       "      <td>0</td>\n",
       "      <td>250</td>\n",
       "    </tr>\n",
       "    <tr>\n",
       "      <th>635</th>\n",
       "      <td>6.5</td>\n",
       "      <td>38</td>\n",
       "      <td>1</td>\n",
       "      <td>0</td>\n",
       "      <td>0</td>\n",
       "      <td>0</td>\n",
       "      <td>255</td>\n",
       "    </tr>\n",
       "    <tr>\n",
       "      <th>310</th>\n",
       "      <td>6.6</td>\n",
       "      <td>37</td>\n",
       "      <td>1</td>\n",
       "      <td>1</td>\n",
       "      <td>1</td>\n",
       "      <td>1</td>\n",
       "      <td>255</td>\n",
       "    </tr>\n",
       "    <tr>\n",
       "      <th>961</th>\n",
       "      <td>9.0</td>\n",
       "      <td>43</td>\n",
       "      <td>1</td>\n",
       "      <td>1</td>\n",
       "      <td>1</td>\n",
       "      <td>1</td>\n",
       "      <td>248</td>\n",
       "    </tr>\n",
       "    <tr>\n",
       "      <th>723</th>\n",
       "      <td>3.0</td>\n",
       "      <td>40</td>\n",
       "      <td>1</td>\n",
       "      <td>1</td>\n",
       "      <td>1</td>\n",
       "      <td>1</td>\n",
       "      <td>255</td>\n",
       "    </tr>\n",
       "    <tr>\n",
       "      <th>...</th>\n",
       "      <td>...</td>\n",
       "      <td>...</td>\n",
       "      <td>...</td>\n",
       "      <td>...</td>\n",
       "      <td>...</td>\n",
       "      <td>...</td>\n",
       "      <td>...</td>\n",
       "    </tr>\n",
       "    <tr>\n",
       "      <th>1033</th>\n",
       "      <td>6.6</td>\n",
       "      <td>38</td>\n",
       "      <td>0</td>\n",
       "      <td>0</td>\n",
       "      <td>0</td>\n",
       "      <td>0</td>\n",
       "      <td>255</td>\n",
       "    </tr>\n",
       "    <tr>\n",
       "      <th>763</th>\n",
       "      <td>5.6</td>\n",
       "      <td>50</td>\n",
       "      <td>0</td>\n",
       "      <td>1</td>\n",
       "      <td>1</td>\n",
       "      <td>1</td>\n",
       "      <td>255</td>\n",
       "    </tr>\n",
       "    <tr>\n",
       "      <th>835</th>\n",
       "      <td>4.7</td>\n",
       "      <td>38</td>\n",
       "      <td>1</td>\n",
       "      <td>0</td>\n",
       "      <td>1</td>\n",
       "      <td>0</td>\n",
       "      <td>255</td>\n",
       "    </tr>\n",
       "    <tr>\n",
       "      <th>559</th>\n",
       "      <td>9.0</td>\n",
       "      <td>43</td>\n",
       "      <td>1</td>\n",
       "      <td>0</td>\n",
       "      <td>1</td>\n",
       "      <td>1</td>\n",
       "      <td>250</td>\n",
       "    </tr>\n",
       "    <tr>\n",
       "      <th>684</th>\n",
       "      <td>6.5</td>\n",
       "      <td>38</td>\n",
       "      <td>1</td>\n",
       "      <td>0</td>\n",
       "      <td>0</td>\n",
       "      <td>0</td>\n",
       "      <td>255</td>\n",
       "    </tr>\n",
       "  </tbody>\n",
       "</table>\n",
       "<p>741 rows × 7 columns</p>\n",
       "</div>"
      ],
      "text/plain": [
       "       pH  Temprature  Taste  Odor  Fat   Turbidity  Colour\n",
       "899   6.6          43      0     0     1          0     250\n",
       "635   6.5          38      1     0     0          0     255\n",
       "310   6.6          37      1     1     1          1     255\n",
       "961   9.0          43      1     1     1          1     248\n",
       "723   3.0          40      1     1     1          1     255\n",
       "...   ...         ...    ...   ...   ...        ...     ...\n",
       "1033  6.6          38      0     0     0          0     255\n",
       "763   5.6          50      0     1     1          1     255\n",
       "835   4.7          38      1     0     1          0     255\n",
       "559   9.0          43      1     0     1          1     250\n",
       "684   6.5          38      1     0     0          0     255\n",
       "\n",
       "[741 rows x 7 columns]"
      ]
     },
     "execution_count": 18,
     "metadata": {},
     "output_type": "execute_result"
    }
   ],
   "source": [
    "X_train"
   ]
  },
  {
   "cell_type": "markdown",
   "id": "c6b42ee8",
   "metadata": {
    "papermill": {
     "duration": 0.012529,
     "end_time": "2023-01-19T13:19:30.818175",
     "exception": false,
     "start_time": "2023-01-19T13:19:30.805646",
     "status": "completed"
    },
    "tags": []
   },
   "source": [
    "# LOGISTIC REGRESSION"
   ]
  },
  {
   "cell_type": "code",
   "execution_count": 19,
   "id": "d9363863",
   "metadata": {
    "execution": {
     "iopub.execute_input": "2023-01-19T13:19:30.847098Z",
     "iopub.status.busy": "2023-01-19T13:19:30.846567Z",
     "iopub.status.idle": "2023-01-19T13:19:30.996089Z",
     "shell.execute_reply": "2023-01-19T13:19:30.994660Z"
    },
    "id": "272e6d06",
    "outputId": "dd5632b9-51b0-45d7-807b-55db2614481e",
    "papermill": {
     "duration": 0.167799,
     "end_time": "2023-01-19T13:19:30.999369",
     "exception": false,
     "start_time": "2023-01-19T13:19:30.831570",
     "status": "completed"
    },
    "tags": []
   },
   "outputs": [
    {
     "name": "stderr",
     "output_type": "stream",
     "text": [
      "/opt/conda/lib/python3.7/site-packages/sklearn/linear_model/_logistic.py:818: ConvergenceWarning: lbfgs failed to converge (status=1):\n",
      "STOP: TOTAL NO. of ITERATIONS REACHED LIMIT.\n",
      "\n",
      "Increase the number of iterations (max_iter) or scale the data as shown in:\n",
      "    https://scikit-learn.org/stable/modules/preprocessing.html\n",
      "Please also refer to the documentation for alternative solver options:\n",
      "    https://scikit-learn.org/stable/modules/linear_model.html#logistic-regression\n",
      "  extra_warning_msg=_LOGISTIC_SOLVER_CONVERGENCE_MSG,\n"
     ]
    },
    {
     "data": {
      "text/plain": [
       "LogisticRegression()"
      ]
     },
     "execution_count": 19,
     "metadata": {},
     "output_type": "execute_result"
    }
   ],
   "source": [
    "from sklearn.linear_model import LogisticRegression\n",
    "model=LogisticRegression()\n",
    "model.fit(X_train,y_train)"
   ]
  },
  {
   "cell_type": "code",
   "execution_count": 20,
   "id": "d4927aaf",
   "metadata": {
    "execution": {
     "iopub.execute_input": "2023-01-19T13:19:31.026528Z",
     "iopub.status.busy": "2023-01-19T13:19:31.026040Z",
     "iopub.status.idle": "2023-01-19T13:19:31.034497Z",
     "shell.execute_reply": "2023-01-19T13:19:31.033158Z"
    },
    "id": "b5fe4de1",
    "papermill": {
     "duration": 0.024432,
     "end_time": "2023-01-19T13:19:31.036736",
     "exception": false,
     "start_time": "2023-01-19T13:19:31.012304",
     "status": "completed"
    },
    "tags": []
   },
   "outputs": [],
   "source": [
    "y_predicted = model.predict(X_test)\n"
   ]
  },
  {
   "cell_type": "code",
   "execution_count": 21,
   "id": "ee3d20bc",
   "metadata": {
    "execution": {
     "iopub.execute_input": "2023-01-19T13:19:31.063115Z",
     "iopub.status.busy": "2023-01-19T13:19:31.062641Z",
     "iopub.status.idle": "2023-01-19T13:19:31.074567Z",
     "shell.execute_reply": "2023-01-19T13:19:31.073136Z"
    },
    "id": "78646917",
    "outputId": "3d98433a-55b9-443a-c936-b666eda5a667",
    "papermill": {
     "duration": 0.028474,
     "end_time": "2023-01-19T13:19:31.077385",
     "exception": false,
     "start_time": "2023-01-19T13:19:31.048911",
     "status": "completed"
    },
    "tags": []
   },
   "outputs": [
    {
     "data": {
      "text/plain": [
       "0.7327044025157232"
      ]
     },
     "execution_count": 21,
     "metadata": {},
     "output_type": "execute_result"
    }
   ],
   "source": [
    "model.score(X_test,y_test)"
   ]
  },
  {
   "cell_type": "code",
   "execution_count": 22,
   "id": "12043d5d",
   "metadata": {
    "execution": {
     "iopub.execute_input": "2023-01-19T13:19:31.106470Z",
     "iopub.status.busy": "2023-01-19T13:19:31.105968Z",
     "iopub.status.idle": "2023-01-19T13:19:31.112113Z",
     "shell.execute_reply": "2023-01-19T13:19:31.110547Z"
    },
    "id": "SpjEcibIn3x6",
    "papermill": {
     "duration": 0.023724,
     "end_time": "2023-01-19T13:19:31.114942",
     "exception": false,
     "start_time": "2023-01-19T13:19:31.091218",
     "status": "completed"
    },
    "tags": []
   },
   "outputs": [],
   "source": [
    "from sklearn.metrics import accuracy_score, confusion_matrix"
   ]
  },
  {
   "cell_type": "markdown",
   "id": "935193bc",
   "metadata": {
    "papermill": {
     "duration": 0.012038,
     "end_time": "2023-01-19T13:19:31.140681",
     "exception": false,
     "start_time": "2023-01-19T13:19:31.128643",
     "status": "completed"
    },
    "tags": []
   },
   "source": [
    "# SUPPORT VECTOR MACHINE"
   ]
  },
  {
   "cell_type": "code",
   "execution_count": 23,
   "id": "2a9d4d99",
   "metadata": {
    "execution": {
     "iopub.execute_input": "2023-01-19T13:19:31.168250Z",
     "iopub.status.busy": "2023-01-19T13:19:31.166871Z",
     "iopub.status.idle": "2023-01-19T13:19:31.214349Z",
     "shell.execute_reply": "2023-01-19T13:19:31.213161Z"
    },
    "id": "MAMhAD4bm_ru",
    "outputId": "56e80c92-3e34-461e-af80-1880bdafa2e6",
    "papermill": {
     "duration": 0.064084,
     "end_time": "2023-01-19T13:19:31.217330",
     "exception": false,
     "start_time": "2023-01-19T13:19:31.153246",
     "status": "completed"
    },
    "tags": []
   },
   "outputs": [
    {
     "data": {
      "text/plain": [
       "SVC(kernel='linear', random_state=0)"
      ]
     },
     "execution_count": 23,
     "metadata": {},
     "output_type": "execute_result"
    }
   ],
   "source": [
    "from sklearn.svm import SVC\n",
    "classifier = SVC(kernel='linear', random_state=0)  \n",
    "classifier.fit(X_train, y_train)"
   ]
  },
  {
   "cell_type": "markdown",
   "id": "8288a182",
   "metadata": {
    "papermill": {
     "duration": 0.012811,
     "end_time": "2023-01-19T13:19:31.243843",
     "exception": false,
     "start_time": "2023-01-19T13:19:31.231032",
     "status": "completed"
    },
    "tags": []
   },
   "source": [
    "# RANDOM FOREST"
   ]
  },
  {
   "cell_type": "code",
   "execution_count": 24,
   "id": "ae3da41d",
   "metadata": {
    "execution": {
     "iopub.execute_input": "2023-01-19T13:19:31.273408Z",
     "iopub.status.busy": "2023-01-19T13:19:31.272944Z",
     "iopub.status.idle": "2023-01-19T13:19:31.643428Z",
     "shell.execute_reply": "2023-01-19T13:19:31.640899Z"
    },
    "id": "e5y7ajWxnC8H",
    "outputId": "d0aff7fc-c741-4c4d-d2bd-c4c813b8a0a4",
    "papermill": {
     "duration": 0.388907,
     "end_time": "2023-01-19T13:19:31.646646",
     "exception": false,
     "start_time": "2023-01-19T13:19:31.257739",
     "status": "completed"
    },
    "tags": []
   },
   "outputs": [
    {
     "name": "stdout",
     "output_type": "stream",
     "text": [
      "[[113   1   2]\n",
      " [  0 116   0]\n",
      " [  3  21  62]]\n"
     ]
    }
   ],
   "source": [
    "from sklearn.metrics import confusion_matrix  \n",
    "from sklearn.ensemble import RandomForestClassifier\n",
    "model=RandomForestClassifier(n_estimators=100,max_depth=3,random_state=0)\n",
    "model.fit(X_train,y_train)\n",
    "prediction = model.predict(X_test)\n",
    "confusionmatrix = confusion_matrix(y_test,prediction)\n",
    "print(confusionmatrix)"
   ]
  },
  {
   "cell_type": "code",
   "execution_count": 25,
   "id": "dff6753d",
   "metadata": {
    "execution": {
     "iopub.execute_input": "2023-01-19T13:19:31.676004Z",
     "iopub.status.busy": "2023-01-19T13:19:31.675527Z",
     "iopub.status.idle": "2023-01-19T13:19:31.684140Z",
     "shell.execute_reply": "2023-01-19T13:19:31.682572Z"
    },
    "id": "hnG3DUJQnr6A",
    "outputId": "e4053a20-0f8d-472c-f5b0-54d2543e8ce9",
    "papermill": {
     "duration": 0.026223,
     "end_time": "2023-01-19T13:19:31.686890",
     "exception": false,
     "start_time": "2023-01-19T13:19:31.660667",
     "status": "completed"
    },
    "tags": []
   },
   "outputs": [
    {
     "name": "stdout",
     "output_type": "stream",
     "text": [
      "0.9150943396226415\n"
     ]
    }
   ],
   "source": [
    "print(accuracy_score(y_test,prediction))"
   ]
  },
  {
   "cell_type": "code",
   "execution_count": 26,
   "id": "2a618372",
   "metadata": {
    "execution": {
     "iopub.execute_input": "2023-01-19T13:19:31.717860Z",
     "iopub.status.busy": "2023-01-19T13:19:31.716191Z",
     "iopub.status.idle": "2023-01-19T13:19:31.722911Z",
     "shell.execute_reply": "2023-01-19T13:19:31.721493Z"
    },
    "id": "99364cf6",
    "papermill": {
     "duration": 0.024679,
     "end_time": "2023-01-19T13:19:31.725594",
     "exception": false,
     "start_time": "2023-01-19T13:19:31.700915",
     "status": "completed"
    },
    "tags": []
   },
   "outputs": [],
   "source": [
    "import pickle"
   ]
  },
  {
   "cell_type": "code",
   "execution_count": 27,
   "id": "f14ff695",
   "metadata": {
    "execution": {
     "iopub.execute_input": "2023-01-19T13:19:31.755258Z",
     "iopub.status.busy": "2023-01-19T13:19:31.754721Z",
     "iopub.status.idle": "2023-01-19T13:19:31.766762Z",
     "shell.execute_reply": "2023-01-19T13:19:31.765482Z"
    },
    "id": "f34433cd",
    "papermill": {
     "duration": 0.030648,
     "end_time": "2023-01-19T13:19:31.769803",
     "exception": false,
     "start_time": "2023-01-19T13:19:31.739155",
     "status": "completed"
    },
    "tags": []
   },
   "outputs": [],
   "source": [
    "filename = 'milk_model_1.sav'\n",
    "pickle.dump(model, open(filename, 'wb'))"
   ]
  },
  {
   "cell_type": "code",
   "execution_count": 28,
   "id": "9b494715",
   "metadata": {
    "execution": {
     "iopub.execute_input": "2023-01-19T13:19:31.799719Z",
     "iopub.status.busy": "2023-01-19T13:19:31.799207Z",
     "iopub.status.idle": "2023-01-19T13:19:31.810123Z",
     "shell.execute_reply": "2023-01-19T13:19:31.808979Z"
    },
    "id": "b14fba1e",
    "papermill": {
     "duration": 0.02927,
     "end_time": "2023-01-19T13:19:31.812562",
     "exception": false,
     "start_time": "2023-01-19T13:19:31.783292",
     "status": "completed"
    },
    "tags": []
   },
   "outputs": [],
   "source": [
    "load_model = pickle.load(open('milk_model_1.sav', 'rb'))"
   ]
  },
  {
   "cell_type": "markdown",
   "id": "daffe7f1",
   "metadata": {
    "id": "ae3b0c72",
    "papermill": {
     "duration": 0.013025,
     "end_time": "2023-01-19T13:19:31.838893",
     "exception": false,
     "start_time": "2023-01-19T13:19:31.825868",
     "status": "completed"
    },
    "tags": []
   },
   "source": []
  }
 ],
 "metadata": {
  "kernelspec": {
   "display_name": "Python 3",
   "language": "python",
   "name": "python3"
  },
  "language_info": {
   "codemirror_mode": {
    "name": "ipython",
    "version": 3
   },
   "file_extension": ".py",
   "mimetype": "text/x-python",
   "name": "python",
   "nbconvert_exporter": "python",
   "pygments_lexer": "ipython3",
   "version": "3.7.12"
  },
  "papermill": {
   "default_parameters": {},
   "duration": 15.240275,
   "end_time": "2023-01-19T13:19:32.977659",
   "environment_variables": {},
   "exception": null,
   "input_path": "__notebook__.ipynb",
   "output_path": "__notebook__.ipynb",
   "parameters": {},
   "start_time": "2023-01-19T13:19:17.737384",
   "version": "2.3.4"
  }
 },
 "nbformat": 4,
 "nbformat_minor": 5
}
